{
  "nbformat": 4,
  "nbformat_minor": 0,
  "metadata": {
    "colab": {
      "provenance": [],
      "authorship_tag": "ABX9TyNFLkc4EUnVwKmDzoFIWGR6",
      "include_colab_link": true
    },
    "kernelspec": {
      "name": "python3",
      "display_name": "Python 3"
    },
    "language_info": {
      "name": "python"
    }
  },
  "cells": [
    {
      "cell_type": "markdown",
      "metadata": {
        "id": "view-in-github",
        "colab_type": "text"
      },
      "source": [
        "<a href=\"https://colab.research.google.com/github/shankar045/1BM23CS309_BIS/blob/main/Ant_colony_algo.ipynb\" target=\"_parent\"><img src=\"https://colab.research.google.com/assets/colab-badge.svg\" alt=\"Open In Colab\"/></a>"
      ]
    },
    {
      "cell_type": "code",
      "execution_count": 5,
      "metadata": {
        "colab": {
          "base_uri": "https://localhost:8080/"
        },
        "id": "B3C_zJvPruZx",
        "outputId": "cf6e651e-c260-416f-cf0b-fc3248909142"
      },
      "outputs": [
        {
          "output_type": "stream",
          "name": "stdout",
          "text": [
            "Best Path: [3, np.int64(1), np.int64(0), np.int64(2), np.int64(4)]\n",
            "Shortest Distance: 22\n"
          ]
        }
      ],
      "source": [
        "import numpy as np\n",
        "import random\n",
        "\n",
        "num_cities = 5\n",
        "dist = np.array([\n",
        "    [0, 2, 9, 10, 7],\n",
        "    [1, 0, 6, 4, 3],\n",
        "    [15, 7, 0, 8, 3],\n",
        "    [6, 3, 12, 0, 11],\n",
        "    [9, 7, 5, 6, 0]\n",
        "])\n",
        "\n",
        "num_ants = 10\n",
        "num_iterations = 50\n",
        "alpha = 1\n",
        "beta = 5\n",
        "rho = 0.5\n",
        "Q = 100\n",
        "\n",
        "pheromone = np.ones((num_cities, num_cities))\n",
        "\n",
        "def distance(path):\n",
        "    return sum(dist[path[i]][path[i+1]] for i in range(num_cities - 1)) + dist[path[-1]][path[0]]\n",
        "\n",
        "best_path = None\n",
        "best_length = float('inf')\n",
        "\n",
        "for _ in range(num_iterations):\n",
        "    all_paths = []\n",
        "    for k in range(num_ants):\n",
        "        path = [random.randint(0, num_cities - 1)]\n",
        "        while len(path) < num_cities:\n",
        "            i = path[-1]\n",
        "            probabilities = []\n",
        "            for j in range(num_cities):\n",
        "                if j not in path:\n",
        "                    tau = pheromone[i][j] ** alpha\n",
        "                    eta = (1 / dist[i][j]) ** beta\n",
        "                    probabilities.append(tau * eta)\n",
        "                else:\n",
        "                    probabilities.append(0)\n",
        "            probabilities = np.array(probabilities)\n",
        "            probabilities /= probabilities.sum()\n",
        "            next_city = np.random.choice(range(num_cities), p=probabilities)\n",
        "            path.append(next_city)\n",
        "        all_paths.append(path)\n",
        "\n",
        "    pheromone *= (1 - rho)\n",
        "    for path in all_paths:\n",
        "        L = distance(path)\n",
        "        for i in range(num_cities):\n",
        "            a, b = path[i], path[(i + 1) % num_cities]\n",
        "            pheromone[a][b] += Q / L\n",
        "            pheromone[b][a] += Q / L\n",
        "        if L < best_length:\n",
        "            best_length = L\n",
        "            best_path = path\n",
        "\n",
        "print(\"Best Path:\", best_path)\n",
        "print(\"Shortest Distance:\", best_length)\n"
      ]
    }
  ]
}