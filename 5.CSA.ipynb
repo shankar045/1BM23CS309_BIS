{
  "nbformat": 4,
  "nbformat_minor": 0,
  "metadata": {
    "colab": {
      "provenance": [],
      "authorship_tag": "ABX9TyP6SZffHQ84+uvyMrALaPuR",
      "include_colab_link": true
    },
    "kernelspec": {
      "name": "python3",
      "display_name": "Python 3"
    },
    "language_info": {
      "name": "python"
    }
  },
  "cells": [
    {
      "cell_type": "markdown",
      "metadata": {
        "id": "view-in-github",
        "colab_type": "text"
      },
      "source": [
        "<a href=\"https://colab.research.google.com/github/shankar045/1BM23CS309_BIS/blob/main/CSA.ipynb\" target=\"_parent\"><img src=\"https://colab.research.google.com/assets/colab-badge.svg\" alt=\"Open In Colab\"/></a>"
      ]
    },
    {
      "cell_type": "code",
      "execution_count": 2,
      "metadata": {
        "colab": {
          "base_uri": "https://localhost:8080/"
        },
        "id": "B3C_zJvPruZx",
        "outputId": "96b56eee-3a93-4141-db0c-8493a06da073"
      },
      "outputs": [
        {
          "output_type": "stream",
          "name": "stdout",
          "text": [
            "Iteration 1, Best fitness (negative total completion time): -145\n",
            "Iteration 2, Best fitness (negative total completion time): -144\n",
            "Iteration 3, Best fitness (negative total completion time): -144\n",
            "Iteration 4, Best fitness (negative total completion time): -144\n",
            "Iteration 5, Best fitness (negative total completion time): -142\n",
            "Iteration 6, Best fitness (negative total completion time): -142\n",
            "Iteration 7, Best fitness (negative total completion time): -142\n",
            "Iteration 8, Best fitness (negative total completion time): -137\n",
            "Iteration 9, Best fitness (negative total completion time): -137\n",
            "Iteration 10, Best fitness (negative total completion time): -137\n",
            "Iteration 11, Best fitness (negative total completion time): -137\n",
            "Iteration 12, Best fitness (negative total completion time): -137\n",
            "Iteration 13, Best fitness (negative total completion time): -137\n",
            "Iteration 14, Best fitness (negative total completion time): -137\n",
            "Iteration 15, Best fitness (negative total completion time): -137\n",
            "Iteration 16, Best fitness (negative total completion time): -137\n",
            "Iteration 17, Best fitness (negative total completion time): -137\n",
            "Iteration 18, Best fitness (negative total completion time): -137\n",
            "Iteration 19, Best fitness (negative total completion time): -137\n",
            "Iteration 20, Best fitness (negative total completion time): -137\n",
            "Iteration 21, Best fitness (negative total completion time): -137\n",
            "Iteration 22, Best fitness (negative total completion time): -137\n",
            "Iteration 23, Best fitness (negative total completion time): -137\n",
            "Iteration 24, Best fitness (negative total completion time): -135\n",
            "Iteration 25, Best fitness (negative total completion time): -135\n",
            "Iteration 26, Best fitness (negative total completion time): -135\n",
            "Iteration 27, Best fitness (negative total completion time): -135\n",
            "Iteration 28, Best fitness (negative total completion time): -135\n",
            "Iteration 29, Best fitness (negative total completion time): -134\n",
            "Iteration 30, Best fitness (negative total completion time): -134\n",
            "\n",
            "Best job sequence found: [0 6 2 5 4 1 3]\n",
            "Minimum total completion time: 134\n"
          ]
        }
      ],
      "source": [
        "import numpy as np\n",
        "\n",
        "processing_times = [2, 14, 4, 16, 6, 5, 3]\n",
        "num_jobs = len(processing_times)\n",
        "n_nests = 20\n",
        "max_iter = 30\n",
        "\n",
        "pa = 0.25\n",
        "def fitness(sequence):\n",
        "    completion_time = 0\n",
        "    total_completion_time = 0\n",
        "    for job in sequence:\n",
        "        completion_time += processing_times[job]\n",
        "        total_completion_time += completion_time\n",
        "    return -total_completion_time\n",
        "\n",
        "def levy_flight_new_solution(current_seq):\n",
        "    seq = current_seq.copy()\n",
        "    n_swaps = np.random.randint(1, 3)\n",
        "    for _ in range(n_swaps):\n",
        "        i, j = np.random.choice(num_jobs, 2, replace=False)\n",
        "        seq[i], seq[j] = seq[j], seq[i]\n",
        "    return seq\n",
        "\n",
        "nests = [np.random.permutation(num_jobs) for _ in range(n_nests)]\n",
        "fitnesses = np.array([fitness(nest) for nest in nests])\n",
        "\n",
        "best_idx = np.argmax(fitnesses)\n",
        "best_fitness = fitnesses[best_idx]\n",
        "best_nest = nests[best_idx].copy()\n",
        "\n",
        "for t in range(max_iter):\n",
        "    for i in range(n_nests):\n",
        "        new_nest = levy_flight_new_solution(nests[i])\n",
        "        new_fit = fitness(new_nest)\n",
        "        if new_fit > fitnesses[i]:\n",
        "            nests[i] = new_nest\n",
        "            fitnesses[i] = new_fit\n",
        "            if new_fit > best_fitness:\n",
        "                best_fitness = new_fit\n",
        "                best_nest = new_nest.copy()\n",
        "\n",
        "    n_abandon = int(pa * n_nests)\n",
        "    worst_indices = np.argsort(fitnesses)[:n_abandon]\n",
        "    for idx in worst_indices:\n",
        "        nests[idx] = np.random.permutation(num_jobs)\n",
        "        fitnesses[idx] = fitness(nests[idx])\n",
        "        if fitnesses[idx] > best_fitness:\n",
        "            best_fitness = fitnesses[idx]\n",
        "            best_nest = nests[idx].copy()\n",
        "\n",
        "    print(f\"Iteration {t+1}, Best fitness (negative total completion time): {best_fitness}\")\n",
        "\n",
        "print(\"\\nBest job sequence found:\", best_nest)\n",
        "print(\"Minimum total completion time:\", -best_fitness)"
      ]
    }
  ]
}
