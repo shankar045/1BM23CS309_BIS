{
  "nbformat": 4,
  "nbformat_minor": 0,
  "metadata": {
    "colab": {
      "provenance": [],
      "authorship_tag": "ABX9TyPElMf3aPGU2q2SmMUn+U7f",
      "include_colab_link": true
    },
    "kernelspec": {
      "name": "python3",
      "display_name": "Python 3"
    },
    "language_info": {
      "name": "python"
    }
  },
  "cells": [
    {
      "cell_type": "markdown",
      "metadata": {
        "id": "view-in-github",
        "colab_type": "text"
      },
      "source": [
        "<a href=\"https://colab.research.google.com/github/shankar045/1BM23CS309_BIS/blob/main/LAB3_PSO.ipynb\" target=\"_parent\"><img src=\"https://colab.research.google.com/assets/colab-badge.svg\" alt=\"Open In Colab\"/></a>"
      ]
    },
    {
      "cell_type": "code",
      "execution_count": 2,
      "metadata": {
        "colab": {
          "base_uri": "https://localhost:8080/"
        },
        "id": "sqYPoAjbakPk",
        "outputId": "948b21cb-9309-452f-bdf8-4962fcd79d5b"
      },
      "outputs": [
        {
          "output_type": "stream",
          "name": "stdout",
          "text": [
            "Shankar.1BM23CS309\n",
            "Best position: 2.500000035375848\n",
            "Best value: 26.25\n"
          ]
        }
      ],
      "source": [
        "print(\"Shankar.1BM23CS309\")\n",
        "import numpy as np\n",
        "\n",
        "# Objective function\n",
        "def objective_function(x):\n",
        "    return -x**2 + 5*x + 20\n",
        "\n",
        "# PSO parameters\n",
        "num_particles = 30\n",
        "num_iterations = 100\n",
        "\n",
        "w = 0.5       # inertia weight\n",
        "c1 = 1.5      # cognitive (particle's own experience)\n",
        "c2 = 1.5      # social (swarm's best experience)\n",
        "\n",
        "x_min = -10   # search space lower bound\n",
        "x_max = 10    # search space upper bound\n",
        "\n",
        "# Initialize particles\n",
        "positions = np.random.uniform(x_min, x_max, num_particles)\n",
        "velocities = np.random.uniform(-1, 1, num_particles)\n",
        "\n",
        "# Initialize personal bests\n",
        "pbest_positions = np.copy(positions)\n",
        "pbest_scores = objective_function(positions)\n",
        "\n",
        "# Initialize global best\n",
        "gbest_index = np.argmax(pbest_scores)\n",
        "gbest_position = pbest_positions[gbest_index]\n",
        "gbest_score = pbest_scores[gbest_index]\n",
        "\n",
        "# PSO main loop\n",
        "for iteration in range(num_iterations):\n",
        "    # Evaluate fitness\n",
        "    fitness = objective_function(positions)\n",
        "\n",
        "    # Update personal bests\n",
        "    for i in range(num_particles):\n",
        "        if fitness[i] > pbest_scores[i]:\n",
        "            pbest_scores[i] = fitness[i]\n",
        "            pbest_positions[i] = positions[i]\n",
        "\n",
        "    # Update global best\n",
        "    gbest_index = np.argmax(pbest_scores)\n",
        "    if pbest_scores[gbest_index] > gbest_score:\n",
        "        gbest_score = pbest_scores[gbest_index]\n",
        "        gbest_position = pbest_positions[gbest_index]\n",
        "\n",
        "    # Update velocities and positions\n",
        "    r1 = np.random.rand(num_particles)\n",
        "    r2 = np.random.rand(num_particles)\n",
        "\n",
        "    velocities = (\n",
        "        w * velocities +\n",
        "        c1 * r1 * (pbest_positions - positions) +\n",
        "        c2 * r2 * (gbest_position - positions)\n",
        "    )\n",
        "    positions += velocities\n",
        "\n",
        "    # Optionally clamp positions to bounds\n",
        "    positions = np.clip(positions, x_min, x_max)\n",
        "\n",
        "# Final result\n",
        "print(f\"Best position: {gbest_position}\")\n",
        "print(f\"Best value: {gbest_score}\")\n"
      ]
    }
  ]
}
