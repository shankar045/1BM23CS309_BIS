{
  "nbformat": 4,
  "nbformat_minor": 0,
  "metadata": {
    "colab": {
      "provenance": [],
      "authorship_tag": "ABX9TyOjOoJBzEququjOOeTRgxwK",
      "include_colab_link": true
    },
    "kernelspec": {
      "name": "python3",
      "display_name": "Python 3"
    },
    "language_info": {
      "name": "python"
    }
  },
  "cells": [
    {
      "cell_type": "markdown",
      "metadata": {
        "id": "view-in-github",
        "colab_type": "text"
      },
      "source": [
        "<a href=\"https://colab.research.google.com/github/shankar045/1BM23CS309_BIS/blob/main/lab7.ipynb\" target=\"_parent\"><img src=\"https://colab.research.google.com/assets/colab-badge.svg\" alt=\"Open In Colab\"/></a>"
      ]
    },
    {
      "cell_type": "code",
      "execution_count": 1,
      "metadata": {
        "colab": {
          "base_uri": "https://localhost:8080/"
        },
        "id": "mOfa-it3WtkX",
        "outputId": "9b7043ab-19a0-4378-a807-0ed8f6c0b2d1"
      },
      "outputs": [
        {
          "output_type": "stream",
          "name": "stdout",
          "text": [
            "Generation 1: Best Fitness = 2.4916, Best x = 0.8204\n",
            "Generation 2: Best Fitness = 2.4916, Best x = 0.8204\n",
            "Generation 3: Best Fitness = 2.4916, Best x = 0.8204\n",
            "Generation 4: Best Fitness = 2.8393, Best x = 0.8460\n",
            "Generation 5: Best Fitness = 2.8393, Best x = 0.8460\n",
            "Generation 6: Best Fitness = 2.8393, Best x = 0.8460\n",
            "Generation 7: Best Fitness = 2.8393, Best x = 0.8460\n",
            "Generation 8: Best Fitness = 2.8393, Best x = 0.8460\n",
            "Generation 9: Best Fitness = 2.8393, Best x = 0.8460\n",
            "Generation 10: Best Fitness = 2.8393, Best x = 0.8460\n",
            "Generation 11: Best Fitness = 2.8393, Best x = 0.8460\n",
            "Generation 12: Best Fitness = 2.8393, Best x = 0.8460\n",
            "Generation 13: Best Fitness = 2.8393, Best x = 0.8460\n",
            "Generation 14: Best Fitness = 2.8393, Best x = 0.8460\n",
            "Generation 15: Best Fitness = 2.8393, Best x = 0.8460\n",
            "Generation 16: Best Fitness = 2.8393, Best x = 0.8460\n",
            "Generation 17: Best Fitness = 2.8393, Best x = 0.8460\n",
            "Generation 18: Best Fitness = 2.8393, Best x = 0.8460\n",
            "Generation 19: Best Fitness = 2.8393, Best x = 0.8460\n",
            "Generation 20: Best Fitness = 2.8393, Best x = 0.8460\n",
            "\n",
            "Best solution found:\n",
            "Genes: [0.5894504487766055, 1.9326939361846325, 1.9821263070730608, -0.5290150805837827, 0.5219055504515522, 1.6962460120711227, 0.46656779559779826, -0.22378750923857837, 0.432406053025991, 1.5914323291384767]\n",
            "x = 0.8460\n",
            "f(x) = 2.8393\n"
          ]
        }
      ],
      "source": [
        "import random\n",
        "import math\n",
        "\n",
        "# Example: f(x) = x * sin(10*pi*x) + 2\n",
        "def fitness_function(x):\n",
        "    return x * math.sin(10 * math.pi * x) + 2\n",
        "\n",
        "POPULATION_SIZE = 6\n",
        "GENE_LENGTH = 10\n",
        "MUTATION_RATE = 0.05\n",
        "CROSSOVER_RATE = 0.8\n",
        "GENERATIONS = 20\n",
        "DOMAIN = (-1, 2)\n",
        "\n",
        "def random_gene():\n",
        "    return random.uniform(DOMAIN[0], DOMAIN[1])\n",
        "\n",
        "def create_chromosome():\n",
        "    return [random_gene() for _ in range(GENE_LENGTH)]\n",
        "\n",
        "def initialize_population(size):\n",
        "    return [create_chromosome() for _ in range(size)]\n",
        "\n",
        "def evaluate_population(population):\n",
        "    return [fitness_function(express_gene(chrom)) for chrom in population]\n",
        "\n",
        "def express_gene(chromosome):\n",
        "    return sum(chromosome) / len(chromosome)\n",
        "\n",
        "def select(population, fitnesses):\n",
        "    total_fitness = sum(fitnesses)\n",
        "    pick = random.uniform(0, total_fitness)\n",
        "    current = 0\n",
        "    for individual, fitness in zip(population, fitnesses):\n",
        "        current += fitness\n",
        "        if current > pick:\n",
        "            return individual\n",
        "    return random.choice(population)\n",
        "\n",
        "def crossover(parent1, parent2):\n",
        "    if random.random() < CROSSOVER_RATE:\n",
        "        point = random.randint(1, GENE_LENGTH - 1)\n",
        "        child1 = parent1[:point] + parent2[point:]\n",
        "        child2 = parent2[:point] + parent1[point:]\n",
        "        return child1, child2\n",
        "    return parent1[:], parent2[:]\n",
        "\n",
        "def mutate(chromosome):\n",
        "    new_chromosome = []\n",
        "    for gene in chromosome:\n",
        "        if random.random() < MUTATION_RATE:\n",
        "            new_chromosome.append(random_gene())\n",
        "        else:\n",
        "            new_chromosome.append(gene)\n",
        "    return new_chromosome\n",
        "\n",
        "def gene_expression_algorithm():\n",
        "    population = initialize_population(POPULATION_SIZE)\n",
        "    best_solution = None\n",
        "    best_fitness = float(\"-inf\")\n",
        "\n",
        "    for generation in range(GENERATIONS):\n",
        "        fitnesses = evaluate_population(population)\n",
        "\n",
        "        for i, chrom in enumerate(population):\n",
        "            if fitnesses[i] > best_fitness:\n",
        "                best_fitness = fitnesses[i]\n",
        "                best_solution = chrom[:]\n",
        "\n",
        "        print(f\"Generation {generation+1}: Best Fitness = {best_fitness:.4f}, Best x = {express_gene(best_solution):.4f}\")\n",
        "\n",
        "        new_population = []\n",
        "        while len(new_population) < POPULATION_SIZE:\n",
        "            parent1 = select(population, fitnesses)\n",
        "            parent2 = select(population, fitnesses)\n",
        "            offspring1, offspring2 = crossover(parent1, parent2)\n",
        "            offspring1 = mutate(offspring1)\n",
        "            offspring2 = mutate(offspring2)\n",
        "            new_population.extend([offspring1, offspring2])\n",
        "\n",
        "        population = new_population[:POPULATION_SIZE]\n",
        "\n",
        "    print(\"\\nBest solution found:\")\n",
        "    print(f\"Genes: {best_solution}\")\n",
        "    x_value = express_gene(best_solution)\n",
        "    print(f\"x = {x_value:.4f}\")\n",
        "    print(f\"f(x) = {fitness_function(x_value):.4f}\")\n",
        "\n",
        "if __name__ == \"__main__\":\n",
        "    gene_expression_algorithm()\n"
      ]
    }
  ]
}